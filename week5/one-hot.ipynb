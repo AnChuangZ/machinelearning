{
 "cells": [
  {
   "cell_type": "code",
   "execution_count": 1,
   "metadata": {},
   "outputs": [],
   "source": [
    "import pandas as pd"
   ]
  },
  {
   "cell_type": "code",
   "execution_count": 2,
   "metadata": {},
   "outputs": [],
   "source": [
    "#定义数据集\n",
    "dataset=[[\"male\",\"Full price ticket\",\"online\",\"morning\",\"eco\"],\n",
    "         [\"male\",\"Half price ticket\",\"counter\",\"noon\",\"super eco\"],\n",
    "         [\"famle\",\"Quarter price ticket\",\"online\",\"night\",\"business\"],\n",
    "         [\"famle\",\"Full price ticket\",\"counter\",\"noon\",\"eco\"]]"
   ]
  },
  {
   "cell_type": "code",
   "execution_count": 3,
   "metadata": {},
   "outputs": [],
   "source": [
    "def oneHot(dataset):\n",
    "    columnList=[]\n",
    "    for i in dataset:\n",
    "        for j in i:\n",
    "            columnList.append(j)\n",
    "    columnList=list(set(columnList))\n",
    "    new_dataset=[]\n",
    "    for everdata in dataset:\n",
    "        new_everdata=[0]*len(columnList)\n",
    "        for i in range(len(columnList)):\n",
    "            if columnList[i] in everdata:\n",
    "                new_everdata[i]=1\n",
    "        new_dataset.append(new_everdata)\n",
    "    return new_dataset,columnList"
   ]
  },
  {
   "cell_type": "code",
   "execution_count": 4,
   "metadata": {},
   "outputs": [
    {
     "name": "stdout",
     "output_type": "stream",
     "text": [
      "   night  male  morning  counter  business  online  eco  Half price ticket  \\\n",
      "0      0     1        1        0         0       1    1                  0   \n",
      "1      0     1        0        1         0       0    0                  1   \n",
      "2      1     0        0        0         1       1    0                  0   \n",
      "3      0     0        0        1         0       0    1                  0   \n",
      "\n",
      "   Quarter price ticket  Full price ticket  noon  famle  super eco  \n",
      "0                     0                  1     0      0          0  \n",
      "1                     0                  0     1      0          1  \n",
      "2                     1                  0     0      1          0  \n",
      "3                     0                  1     1      1          0  \n"
     ]
    }
   ],
   "source": [
    "if __name__==\"__main__\":\n",
    "    dataset,columnlist=oneHot(dataset)\n",
    "    dataset=pd.DataFrame(dataset)\n",
    "    dataset.columns=columnlist\n",
    "    print(dataset)"
   ]
  }
 ],
 "metadata": {
  "interpreter": {
   "hash": "07efdcd4b820c98a756949507a4d29d7862823915ec7477944641bea022f4f62"
  },
  "kernelspec": {
   "display_name": "Python 3.8.8 64-bit ('base': conda)",
   "language": "python",
   "name": "python3"
  },
  "language_info": {
   "codemirror_mode": {
    "name": "ipython",
    "version": 3
   },
   "file_extension": ".py",
   "mimetype": "text/x-python",
   "name": "python",
   "nbconvert_exporter": "python",
   "pygments_lexer": "ipython3",
   "version": "3.8.8"
  },
  "orig_nbformat": 4
 },
 "nbformat": 4,
 "nbformat_minor": 2
}
